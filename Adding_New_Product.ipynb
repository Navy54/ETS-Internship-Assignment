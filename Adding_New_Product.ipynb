{
  "nbformat": 4,
  "nbformat_minor": 0,
  "metadata": {
    "colab": {
      "name": "Adding New Product.ipynb",
      "provenance": []
    },
    "kernelspec": {
      "name": "python3",
      "display_name": "Python 3"
    },
    "language_info": {
      "name": "python"
    }
  },
  "cells": [
    {
      "cell_type": "markdown",
      "metadata": {
        "id": "_jx3TeN5Ih3u"
      },
      "source": [
        "#Reading Data"
      ]
    },
    {
      "cell_type": "code",
      "metadata": {
        "id": "5YA6l0g8DDdL"
      },
      "source": [
        "import json\n",
        "\n",
        "file_data = open(\"record.json\",'r')\n",
        "loaded_data = file_data.read()\n",
        "file_data.close()\n",
        "\n",
        "active_record = json.loads(loaded_data)"
      ],
      "execution_count": null,
      "outputs": []
    },
    {
      "cell_type": "markdown",
      "metadata": {
        "id": "BePxBm5kImBi"
      },
      "source": [
        "#Adding a new product"
      ]
    },
    {
      "cell_type": "code",
      "metadata": {
        "id": "qc06j8rNGXqr"
      },
      "source": [
        "system_product_ID   = str(input(\"Enter the desired product's id:\"))\n",
        "system_product_name = str(input(\"Enter the desired product's name:\"))\n",
        "system_price        = int(input(\"Enter the desired product's price:\"))\n",
        "system_quantity     = int(input(\"Enter the desired product's quantity:\"))\n",
        "\n",
        "active_record[prod_id] = {'product name': system_product_name, \n",
        "                          'price': system_price, \n",
        "                          'quantity': system_quantity}\n",
        "\n",
        "updated_record = json.dumps(active_record)\n",
        "\n",
        "file_data = open(\"record.json\",'w')\n",
        "file_data.write(updated_record)\n",
        "file_data.close()"
      ],
      "execution_count": null,
      "outputs": []
    },
    {
      "cell_type": "markdown",
      "metadata": {
        "id": "LNQ03RlUIrFc"
      },
      "source": [
        "#Deleting an existing product"
      ]
    },
    {
      "cell_type": "code",
      "metadata": {
        "id": "qZjoiD4cHv_R"
      },
      "source": [
        "system_product_ID = str(input(\"Enter the product's id you want to delete:\"))\n",
        "\n",
        "print(active_record[system_product_ID])\n",
        "if \"Y\" == str(input(\"Are you want to delete this product\"))"
      ],
      "execution_count": null,
      "outputs": []
    }
  ]
}