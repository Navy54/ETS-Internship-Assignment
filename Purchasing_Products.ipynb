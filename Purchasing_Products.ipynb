{
  "nbformat": 4,
  "nbformat_minor": 0,
  "metadata": {
    "colab": {
      "name": "Purchasing Products.ipynb",
      "provenance": [],
      "collapsed_sections": []
    },
    "kernelspec": {
      "name": "python3",
      "display_name": "Python 3"
    },
    "language_info": {
      "name": "python"
    }
  },
  "cells": [
    {
      "cell_type": "markdown",
      "metadata": {
        "id": "XmChHUWXH46R"
      },
      "source": [
        "#Reading Inventory"
      ]
    },
    {
      "cell_type": "code",
      "metadata": {
        "id": "GgbRB1kb0FeZ"
      },
      "source": [
        "import json\n",
        "\n",
        "file_data = open(\"records.json\",'r')\n",
        "loaded_data = file_data.read()\n",
        "file_data.close()\n",
        "\n",
        "active_record = json.loads(loaded_data)"
      ],
      "execution_count": null,
      "outputs": []
    },
    {
      "cell_type": "markdown",
      "metadata": {
        "id": "EuayMWFtIFKe"
      },
      "source": [
        "#Displaying Inventory"
      ]
    },
    {
      "cell_type": "code",
      "metadata": {
        "id": "QQWxx0-jb0QD"
      },
      "source": [
        "record"
      ],
      "execution_count": null,
      "outputs": []
    },
    {
      "cell_type": "markdown",
      "metadata": {
        "id": "o0r2FtZfIMYT"
      },
      "source": [
        "#Purchasing a product"
      ]
    },
    {
      "cell_type": "code",
      "metadata": {
        "id": "QoDDCAh-cAD5"
      },
      "source": [
        "system_product_ID = str(input(\"Enter the product_Id: \"))\n",
        "system_quantity   = int(input(\"Enter the quantity: \"))\n",
        "\n",
        "\n",
        "print(\"Product name: \", active_record[system_product_ID]['product name'])\n",
        "print(\"Price: \",        active_record[system_product_ID]['price'])\n",
        "print(\"Amount: \",       active_record[system_product_ID]['price'] * system_quantity)\n",
        "\n",
        "active_record[system_product_ID]['quantity'] = active_record[system_product_ID]['quantity'] - system_quantity"
      ],
      "execution_count": null,
      "outputs": []
    },
    {
      "cell_type": "markdown",
      "metadata": {
        "id": "B2xGhTeEISsO"
      },
      "source": [
        "#Updating Inventory after a Purchase"
      ]
    },
    {
      "cell_type": "code",
      "metadata": {
        "id": "X9T4r66Ih2ul"
      },
      "source": [
        "updated_record = json.dumps(active_record)\n",
        "\n",
        "file_data = open(\"records.json\",'w')\n",
        "file_data.write(updated_record)\n",
        "file_data.close()"
      ],
      "execution_count": null,
      "outputs": []
    }
  ]
}